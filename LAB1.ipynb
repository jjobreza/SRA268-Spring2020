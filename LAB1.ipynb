{
  "nbformat": 4,
  "nbformat_minor": 0,
  "metadata": {
    "colab": {
      "name": "LAB1.ipynb",
      "provenance": [],
      "authorship_tag": "ABX9TyOvK42uIes1LGJyS3T5dG2i",
      "include_colab_link": true
    },
    "kernelspec": {
      "name": "python3",
      "display_name": "Python 3"
    }
  },
  "cells": [
    {
      "cell_type": "markdown",
      "metadata": {
        "id": "view-in-github",
        "colab_type": "text"
      },
      "source": [
        "<a href=\"https://colab.research.google.com/github/jjobreza/SRA268-Spring2020/blob/master/LAB1.ipynb\" target=\"_parent\"><img src=\"https://colab.research.google.com/assets/colab-badge.svg\" alt=\"Open In Colab\"/></a>"
      ]
    },
    {
      "cell_type": "code",
      "metadata": {
        "id": "926FWCCNPI8z",
        "colab_type": "code",
        "colab": {}
      },
      "source": [
        ""
      ],
      "execution_count": 0,
      "outputs": []
    },
    {
      "cell_type": "markdown",
      "metadata": {
        "id": "njY36lUzVXiE",
        "colab_type": "text"
      },
      "source": [
        "# Recorded SnowFall For First 2 Weeks of January 2017"
      ]
    },
    {
      "cell_type": "markdown",
      "metadata": {
        "id": "0XzcDKsZVitt",
        "colab_type": "text"
      },
      "source": [
        "# Outline"
      ]
    },
    {
      "cell_type": "markdown",
      "metadata": {
        "id": "vGoM5htmVpgn",
        "colab_type": "text"
      },
      "source": [
        "I was curious about analyzing the recorded snowfall of the first two weeks in January 2017. This being said I wanted to draw a line graph represents the amount of snow fall over the course of the first two weeks. The y axis represented the amount of snowfall in inches while the x axis recorded the date for each day. "
      ]
    },
    {
      "cell_type": "markdown",
      "metadata": {
        "id": "yUkt5c4a4skm",
        "colab_type": "text"
      },
      "source": [
        "![alt text](https://raw.githubusercontent.com/jjobreza/SRA268-Spring2020/master/images4/IMG_1047.JPG)"
      ]
    },
    {
      "cell_type": "markdown",
      "metadata": {
        "id": "Z4awhgd46d-R",
        "colab_type": "text"
      },
      "source": [
        "# Conclusion"
      ]
    },
    {
      "cell_type": "markdown",
      "metadata": {
        "id": "IbBIX6Gm6o_S",
        "colab_type": "text"
      },
      "source": [
        "After completing my line graph over the course of the first two weeks in January the results were quit suprising. There were only two points during the first two weeks where there was snowfall. January 6th had 0.3 inches and January 11th had 1.1 inches. Using this form of visualization we were able to better analyze the snowfall for the first two weeks in January. The graph allows viewers to understand and follow the content easily while also being able to understand what the author is trying to illustrate. "
      ]
    }
  ]
}