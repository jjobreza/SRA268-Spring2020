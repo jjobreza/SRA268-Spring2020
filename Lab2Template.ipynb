{
  "nbformat": 4,
  "nbformat_minor": 0,
  "metadata": {
    "colab": {
      "name": "Lab2Template.ipynb",
      "provenance": [],
      "include_colab_link": true
    },
    "kernelspec": {
      "name": "python3",
      "display_name": "Python 3"
    }
  },
  "cells": [
    {
      "cell_type": "markdown",
      "metadata": {
        "id": "view-in-github",
        "colab_type": "text"
      },
      "source": [
        "<a href=\"https://colab.research.google.com/github/jjobreza/SRA268-Spring2020/blob/master/Lab2Template.ipynb\" target=\"_parent\"><img src=\"https://colab.research.google.com/assets/colab-badge.svg\" alt=\"Open In Colab\"/></a>"
      ]
    },
    {
      "cell_type": "markdown",
      "metadata": {
        "id": "0zZdVLAd5CYr",
        "colab_type": "text"
      },
      "source": [
        "Joy Obreza "
      ]
    },
    {
      "cell_type": "markdown",
      "metadata": {
        "id": "6sOc4Uyr4U-Z",
        "colab_type": "text"
      },
      "source": [
        "## Graph Types"
      ]
    },
    {
      "cell_type": "markdown",
      "metadata": {
        "id": "g-r6Clq45Hn4",
        "colab_type": "text"
      },
      "source": [
        "### Deviation\n"
      ]
    },
    {
      "cell_type": "markdown",
      "metadata": {
        "id": "QIrhLf-h9b8m",
        "colab_type": "text"
      },
      "source": [
        "![alt text](https://raw.githubusercontent.com/jjobreza/SRA268-Spring2020/master/Lab2Images/Deviation.jpg)"
      ]
    },
    {
      "cell_type": "markdown",
      "metadata": {
        "id": "KM6JXGabMk66",
        "colab_type": "text"
      },
      "source": [
        "What is this telling us?"
      ]
    },
    {
      "cell_type": "markdown",
      "metadata": {
        "id": "95L-spaC7QHF",
        "colab_type": "text"
      },
      "source": [
        "The first graph depicted above is to demonstrate the relationship of the data by understanding the information variation. As you can see above the first half of the graph represents the sum of the winning points broken apart by each day of the week. It was interesting to compare the number of winning points simply by the day of the week. Thursday and Friday seemed to be the top two days for high scoring. The lower half of the graph depicts the winning seed also distinguished by the day of the week and again Thursday and Friday we saw a stronger amount of winning seeds pull through for the win. We use this graph to understand the variation from a fixed point. "
      ]
    },
    {
      "cell_type": "markdown",
      "metadata": {
        "id": "YgXyXjmz7cDP",
        "colab_type": "text"
      },
      "source": [
        "### Correlation\n"
      ]
    },
    {
      "cell_type": "markdown",
      "metadata": {
        "id": "wv3x0qVb-Qkh",
        "colab_type": "text"
      },
      "source": [
        "![alt text](https://raw.githubusercontent.com/jjobreza/SRA268-Spring2020/master/Lab2Images/Correlation.jpg)"
      ]
    },
    {
      "cell_type": "markdown",
      "metadata": {
        "id": "dljjONNi7jmj",
        "colab_type": "text"
      },
      "source": [
        "#### What is this telling us?"
      ]
    },
    {
      "cell_type": "markdown",
      "metadata": {
        "id": "PwZEZrFB7laG",
        "colab_type": "text"
      },
      "source": [
        "The main job of a correlation is to demonstrate the relationship between two variables. In this case we can see that we are comparing the number of overtimes to the amount of winning points. The scatterplot above using dark blue circles, shows the viewer that in the beginning of the graph the data seems to plateau showing that there is not a correlation, but then we begin to see a positive correlation. As the number of overtimes increase the winning points do as well. The different sizes of the circles also demonstrate the win seed of the team playing. If you were to move your cursor over the circles you would be able to see the name of the team.    "
      ]
    },
    {
      "cell_type": "markdown",
      "metadata": {
        "id": "MqUdI-uL7r2s",
        "colab_type": "text"
      },
      "source": [
        "### Ranking\n"
      ]
    },
    {
      "cell_type": "markdown",
      "metadata": {
        "id": "g8MCqBKQ-gHC",
        "colab_type": "text"
      },
      "source": [
        "![alt text](https://raw.githubusercontent.com/jjobreza/SRA268-Spring2020/master/Lab2Images/Ranking.jpg)"
      ]
    },
    {
      "cell_type": "markdown",
      "metadata": {
        "id": "lCAYtfza7yTq",
        "colab_type": "text"
      },
      "source": [
        "#### What is this telling us?"
      ]
    },
    {
      "cell_type": "markdown",
      "metadata": {
        "id": "MyuciD277ygU",
        "colab_type": "text"
      },
      "source": [
        "Rankings help highlight the positioning of the data relative to each other. In the above example I chose to use a ordered bar graph that displays the highest value at the top of the graph and descend in values from most to least . On the y axis the day is recorded while the x axis displays the number of points scored to win the game. You are able to see that the winning points were highest on Thurday and slightly less on Friday. The ordered bar graphs do help distinguish the amount of winning points scored each day allowing the viewer to understand what the author is trying to highlight in the graph. "
      ]
    },
    {
      "cell_type": "markdown",
      "metadata": {
        "id": "dGDGl8-G7y8Y",
        "colab_type": "text"
      },
      "source": [
        "### Distribution\n"
      ]
    },
    {
      "cell_type": "markdown",
      "metadata": {
        "id": "zegJYHcY-sOE",
        "colab_type": "text"
      },
      "source": [
        "![alt text](https://raw.githubusercontent.com/jjobreza/SRA268-Spring2020/master/Lab2Images/Distribution.jpg)"
      ]
    },
    {
      "cell_type": "markdown",
      "metadata": {
        "id": "_6SOzhrQ76zH",
        "colab_type": "text"
      },
      "source": [
        "#### What is this telling us?"
      ]
    },
    {
      "cell_type": "markdown",
      "metadata": {
        "id": "HBWqsS_g767h",
        "colab_type": "text"
      },
      "source": [
        "The distribution of a data set helps us understand the skewness, value and shape of the information. The graph above displays the count of the season based on that specific year. You can see that the data is not skewed either way. For the most part the value has plateaued and is very consistent. I chose a histogram to depict this dataset because keeping the columns of the data very close together lets you examine the shape of the distribution and highlight the shape of the data. The season of 1985 in the beginning of the data set and the data past 2015 are both on the lower ends of the spectrum.  "
      ]
    },
    {
      "cell_type": "markdown",
      "metadata": {
        "id": "wQsDThk677Fy",
        "colab_type": "text"
      },
      "source": [
        "### Change over Time\n"
      ]
    },
    {
      "cell_type": "markdown",
      "metadata": {
        "id": "-lRlXy3qAFe8",
        "colab_type": "text"
      },
      "source": [
        "![alt text](https://raw.githubusercontent.com/jjobreza/SRA268-Spring2020/master/Lab2Images/Change%20over%20time%202.jpg)"
      ]
    },
    {
      "cell_type": "markdown",
      "metadata": {
        "id": "mpfsmmgi7_Vj",
        "colab_type": "text"
      },
      "source": [
        "#### What is this telling us?"
      ]
    },
    {
      "cell_type": "markdown",
      "metadata": {
        "id": "rYLXoMMO7_di",
        "colab_type": "text"
      },
      "source": [
        "To examine changes in the data over time I chose to use a line graph. We are able to see the trend of the information we chose very easily. In this graph we have the number of overtimes on the y axis and the academic year on the x axis. We are tracking the amount of overtimes that have occured each academic year starting in 1983 till 2017. The data is very all over the place similar to a rollercoaster. It consistently moves up and down throughout the years and drops off significantly at the end. It is interesting to note that the number of overtimes over that span of time never reaches above 7. "
      ]
    },
    {
      "cell_type": "markdown",
      "metadata": {
        "id": "lFwiHoE-7_jZ",
        "colab_type": "text"
      },
      "source": [
        "### Magnitude\n"
      ]
    },
    {
      "cell_type": "markdown",
      "metadata": {
        "id": "VGblfNj-ASmO",
        "colab_type": "text"
      },
      "source": [
        "![alt text](https://raw.githubusercontent.com/jjobreza/SRA268-Spring2020/master/Lab2Images/Magnitude.jpg)"
      ]
    },
    {
      "cell_type": "markdown",
      "metadata": {
        "id": "QGG7XYG88Eii",
        "colab_type": "text"
      },
      "source": [
        "#### What is this telling us?"
      ]
    },
    {
      "cell_type": "markdown",
      "metadata": {
        "id": "VS7uGa0l8Eos",
        "colab_type": "text"
      },
      "source": [
        "Looking at the magnitude of the data allows us to compare the data that we are oberving. I wanted to showcase this using a column bar graph starting the values at zero to compare the size. On the x axis we have the game date year broken down by the losing Mascot and the y axis displays the sum of the winning points. I also filtered the data on the losing Mascot specifically viewing the 49ers. You can see that in the 1996 season there was the most amount of winning points scored by the losing Mascot. It is also important to notice that the years are shaded light to dark based on the years. The earliest years are shaded lighter and as time goes on the bars turn a darker red color. "
      ]
    },
    {
      "cell_type": "markdown",
      "metadata": {
        "id": "bEKFxP8R8Evk",
        "colab_type": "text"
      },
      "source": [
        "### Part-to-Whole\n"
      ]
    },
    {
      "cell_type": "markdown",
      "metadata": {
        "id": "OAQI5g3lAlXg",
        "colab_type": "text"
      },
      "source": [
        "![alt text](https://raw.githubusercontent.com/jjobreza/SRA268-Spring2020/master/Lab2Images/Part-to-Whole.jpg)"
      ]
    },
    {
      "cell_type": "markdown",
      "metadata": {
        "id": "PNSd3wlp8UZH",
        "colab_type": "text"
      },
      "source": [
        "#### What is this telling us?"
      ]
    },
    {
      "cell_type": "markdown",
      "metadata": {
        "id": "y9tb_QRA8aqt",
        "colab_type": "text"
      },
      "source": [
        "The Part-to-Whole graph shows individual entities in the data as they relate to all other single entities. I wanted to depict this data using a pie chart. Here you can see I displayed the losing name of the team which is depicted in color and the sum of the winning seed is also displayed based on the portion on the pie. Each of the sums is diplayed next to the associated color while you can also examine the winning seed amount. The view is also filtered on the losing name in which I excluded all of the teams except the 49ers and the Bearcats. "
      ]
    }
  ]
}