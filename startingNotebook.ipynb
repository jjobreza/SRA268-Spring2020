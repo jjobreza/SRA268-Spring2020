{
  "nbformat": 4,
  "nbformat_minor": 0,
  "metadata": {
    "colab": {
      "name": "startingNotebook.ipynb",
      "provenance": [],
      "authorship_tag": "ABX9TyMsWiRb/2N6CENT4U88RAx5",
      "include_colab_link": true
    },
    "kernelspec": {
      "name": "python3",
      "display_name": "Python 3"
    }
  },
  "cells": [
    {
      "cell_type": "markdown",
      "metadata": {
        "id": "view-in-github",
        "colab_type": "text"
      },
      "source": [
        "<a href=\"https://colab.research.google.com/github/jjobreza/SRA268-Spring2020/blob/master/startingNotebook.ipynb\" target=\"_parent\"><img src=\"https://colab.research.google.com/assets/colab-badge.svg\" alt=\"Open In Colab\"/></a>"
      ]
    },
    {
      "cell_type": "code",
      "metadata": {
        "id": "Tk72D0eT4ofP",
        "colab_type": "code",
        "colab": {
          "base_uri": "https://localhost:8080/",
          "height": 34
        },
        "outputId": "f6ccf602-e011-4c5d-cf5a-087d57195cf5"
      },
      "source": [
        "2+2"
      ],
      "execution_count": 1,
      "outputs": [
        {
          "output_type": "execute_result",
          "data": {
            "text/plain": [
              "4"
            ]
          },
          "metadata": {
            "tags": []
          },
          "execution_count": 1
        }
      ]
    },
    {
      "cell_type": "markdown",
      "metadata": {
        "id": "yNLs0gWN5cG2",
        "colab_type": "text"
      },
      "source": [
        "### **Abstract**\n"
      ]
    },
    {
      "cell_type": "markdown",
      "metadata": {
        "id": "-alJ2R3q5ysv",
        "colab_type": "text"
      },
      "source": [
        "somthing in the abstract"
      ]
    },
    {
      "cell_type": "markdown",
      "metadata": {
        "id": "cIv1WwFV51pF",
        "colab_type": "text"
      },
      "source": [
        "# Introduction"
      ]
    },
    {
      "cell_type": "markdown",
      "metadata": {
        "id": "Ckn0iCJj55oZ",
        "colab_type": "text"
      },
      "source": [
        "![no image here]()"
      ]
    },
    {
      "cell_type": "markdown",
      "metadata": {
        "id": "Z8v5Hrh869yq",
        "colab_type": "text"
      },
      "source": [
        "![alt text](https://raw.githubusercontent.com/jjobreza/SRA268-Spring2020/master/images4/IMG_1001.JPG)"
      ]
    }
  ]
}